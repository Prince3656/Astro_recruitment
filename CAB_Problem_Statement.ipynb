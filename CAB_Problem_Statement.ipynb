{
 "cells": [
  {
   "cell_type": "markdown",
   "metadata": {
    "id": "6jprQ7IFBY9b"
   },
   "source": [
    "# **Question 1 : Visualizing Pleiades cluster**\n",
    "\n",
    "Our beloved astronomy club, Krittika, is named after one of the most conspicuous star cluster in the sky, Pleiades. The CSV file stardata.csv\n",
    "contains four columns of data, which contain the following data for 196 stars in the cluster:\n",
    "\n",
    "\n",
    "*   Column 1: RA of each star in degrees\n",
    "*   Column 2: Declination of each star in degrees\n",
    "*   Column 3: Parallax of each star in milliarcseconds (mas)\n",
    "*   Column 4: Apparent Magnitude of the star\n",
    "\n",
    "\n",
    "Parallax $p$ of a star is directly related to its distance $d$ as $d$ in parsecs $= \\frac{1}{p}$ where parallax is in arcseconds.\n",
    "\n",
    "Before proceeding, you need to be able to read the csv file contents, and since the assignment involves graphs, you might want to import some things as well:"
   ]
  },
  {
   "cell_type": "code",
   "execution_count": 3,
   "metadata": {
    "id": "wFuuIRbqCIRL"
   },
   "outputs": [],
   "source": [
    "import pandas\n",
    "import numpy\n",
    "import matplotlib.pyplot as plt\n",
    "import csv"
   ]
  },
  {
   "cell_type": "markdown",
   "metadata": {
    "id": "tRub3yySCcbd"
   },
   "source": [
    "A little background on magnitude of a star:\n",
    "\n",
    "Magnitudes in Astronomy are a way to describe how bright an object (in our case, a star) is:\n",
    "\n",
    "**Apparent magnitude**: Apparent magnitude ($m$) is a measure of the brightness of a star or any other astronomical object observed from the earth. It is similar to the decibel system for sound in that magnitudes are logarithmic and can be calculated according to the formula\n",
    "$$m = -2.5 \\log  { \\left ( \\dfrac{F}{F_0} \\right )} $$\n",
    "where $F$ is the flux from the star (measured in $W/m^2$), and $F_0$ is a reference flux. \n",
    "\n",
    "We can calculate the flux of a star at some distance $d$ away as\n",
    "$$F = \\dfrac{L}{4 \\pi d^2}$$\n",
    "\n",
    "where $L$ is the Luminosity of the star (measured in W).\n",
    "\n",
    "**Absolute magnitude**: It is the magnitude of the star at a distance of 10 pc, and is related to the apparent magnitude by (and try to see if you can derive this):\n",
    "$$m-M = -5 + 5\\log_{10}(d)$$\n",
    "where $M$ is the absolute magnitude and $d$ is the distance of the star from us in parsecs (pc).\n",
    "To read up more about magnitudes, hit up this Wikipedia article - https://en.wikipedia.org/wiki/Magnitude_(astronomy%29.\n",
    "\n",
    "Using the above info and the earlier relation of distance and parallax, use the imported libraries to find the absolute magnitudes of all the stars of the csv file, and plot a histogram of the distribution, with 50 bins."
   ]
  },
  {
   "cell_type": "code",
   "execution_count": null,
   "metadata": {},
   "outputs": [],
   "source": []
  },
  {
   "cell_type": "raw",
   "metadata": {},
   "source": []
  },
  {
   "cell_type": "code",
   "execution_count": 36,
   "metadata": {
    "id": "kJpsPXK6sMZp"
   },
   "outputs": [
    {
     "data": {
      "text/html": [
       "<div>\n",
       "<style scoped>\n",
       "    .dataframe tbody tr th:only-of-type {\n",
       "        vertical-align: middle;\n",
       "    }\n",
       "\n",
       "    .dataframe tbody tr th {\n",
       "        vertical-align: top;\n",
       "    }\n",
       "\n",
       "    .dataframe thead th {\n",
       "        text-align: right;\n",
       "    }\n",
       "</style>\n",
       "<table border=\"1\" class=\"dataframe\">\n",
       "  <thead>\n",
       "    <tr style=\"text-align: right;\">\n",
       "      <th></th>\n",
       "      <th>RA</th>\n",
       "      <th>Dec.</th>\n",
       "      <th>plx</th>\n",
       "      <th>App_Mag</th>\n",
       "    </tr>\n",
       "  </thead>\n",
       "  <tbody>\n",
       "    <tr>\n",
       "      <th>0</th>\n",
       "      <td>56.566774</td>\n",
       "      <td>24.189735</td>\n",
       "      <td>7.3935352662039655</td>\n",
       "      <td>8.208464</td>\n",
       "    </tr>\n",
       "    <tr>\n",
       "      <th>1</th>\n",
       "      <td>56.557355</td>\n",
       "      <td>24.196560</td>\n",
       "      <td>7.545834754428319</td>\n",
       "      <td>7.323018</td>\n",
       "    </tr>\n",
       "    <tr>\n",
       "      <th>2</th>\n",
       "      <td>56.613757</td>\n",
       "      <td>24.254807</td>\n",
       "      <td>7.21777120370273</td>\n",
       "      <td>7.339084</td>\n",
       "    </tr>\n",
       "    <tr>\n",
       "      <th>3</th>\n",
       "      <td>56.642808</td>\n",
       "      <td>24.138091</td>\n",
       "      <td>3.5113645931028596</td>\n",
       "      <td>11.468399</td>\n",
       "    </tr>\n",
       "    <tr>\n",
       "      <th>4</th>\n",
       "      <td>56.663986</td>\n",
       "      <td>24.103001</td>\n",
       "      <td>7.418396935580117</td>\n",
       "      <td>9.191837</td>\n",
       "    </tr>\n",
       "    <tr>\n",
       "      <th>...</th>\n",
       "      <td>...</td>\n",
       "      <td>...</td>\n",
       "      <td>...</td>\n",
       "      <td>...</td>\n",
       "    </tr>\n",
       "    <tr>\n",
       "      <th>195</th>\n",
       "      <td>56.085556</td>\n",
       "      <td>24.772663</td>\n",
       "      <td>7.184980521025954</td>\n",
       "      <td>10.851324</td>\n",
       "    </tr>\n",
       "    <tr>\n",
       "      <th>196</th>\n",
       "      <td>57.413389</td>\n",
       "      <td>24.227447</td>\n",
       "      <td>0.7318242043789284</td>\n",
       "      <td>11.703114</td>\n",
       "    </tr>\n",
       "    <tr>\n",
       "      <th>197</th>\n",
       "      <td>57.275547</td>\n",
       "      <td>23.781044</td>\n",
       "      <td>7.209080087285128</td>\n",
       "      <td>10.420579</td>\n",
       "    </tr>\n",
       "    <tr>\n",
       "      <th>198</th>\n",
       "      <td>56.352150</td>\n",
       "      <td>23.486739</td>\n",
       "      <td>3.2474518773823196</td>\n",
       "      <td>11.549389</td>\n",
       "    </tr>\n",
       "    <tr>\n",
       "      <th>199</th>\n",
       "      <td>55.894421</td>\n",
       "      <td>24.593812</td>\n",
       "      <td>0.31234967684231557</td>\n",
       "      <td>11.863298</td>\n",
       "    </tr>\n",
       "  </tbody>\n",
       "</table>\n",
       "<p>200 rows × 4 columns</p>\n",
       "</div>"
      ],
      "text/plain": [
       "            RA       Dec.                  plx    App_Mag\n",
       "0    56.566774  24.189735   7.3935352662039655   8.208464\n",
       "1    56.557355  24.196560    7.545834754428319   7.323018\n",
       "2    56.613757  24.254807     7.21777120370273   7.339084\n",
       "3    56.642808  24.138091   3.5113645931028596  11.468399\n",
       "4    56.663986  24.103001    7.418396935580117   9.191837\n",
       "..         ...        ...                  ...        ...\n",
       "195  56.085556  24.772663    7.184980521025954  10.851324\n",
       "196  57.413389  24.227447   0.7318242043789284  11.703114\n",
       "197  57.275547  23.781044    7.209080087285128  10.420579\n",
       "198  56.352150  23.486739   3.2474518773823196  11.549389\n",
       "199  55.894421  24.593812  0.31234967684231557  11.863298\n",
       "\n",
       "[200 rows x 4 columns]"
      ]
     },
     "execution_count": 36,
     "metadata": {},
     "output_type": "execute_result"
    }
   ],
   "source": [
    "col_names=['RA','Dec.','plx','App_Mag']\n",
    "stardata=pandas.read_csv('stardata.csv',names=col_names)\n",
    "stardata"
   ]
  },
  {
   "cell_type": "code",
   "execution_count": 37,
   "metadata": {},
   "outputs": [
    {
     "data": {
      "text/html": [
       "<div>\n",
       "<style scoped>\n",
       "    .dataframe tbody tr th:only-of-type {\n",
       "        vertical-align: middle;\n",
       "    }\n",
       "\n",
       "    .dataframe tbody tr th {\n",
       "        vertical-align: top;\n",
       "    }\n",
       "\n",
       "    .dataframe thead th {\n",
       "        text-align: right;\n",
       "    }\n",
       "</style>\n",
       "<table border=\"1\" class=\"dataframe\">\n",
       "  <thead>\n",
       "    <tr style=\"text-align: right;\">\n",
       "      <th></th>\n",
       "      <th>RA</th>\n",
       "      <th>Dec.</th>\n",
       "      <th>plx</th>\n",
       "      <th>App_Mag</th>\n",
       "      <th>Act_Mag</th>\n",
       "    </tr>\n",
       "  </thead>\n",
       "  <tbody>\n",
       "    <tr>\n",
       "      <th>0</th>\n",
       "      <td>56.566774</td>\n",
       "      <td>24.189735</td>\n",
       "      <td>7.393535</td>\n",
       "      <td>8.208464</td>\n",
       "      <td>17.552725</td>\n",
       "    </tr>\n",
       "    <tr>\n",
       "      <th>1</th>\n",
       "      <td>56.557355</td>\n",
       "      <td>24.196560</td>\n",
       "      <td>7.545835</td>\n",
       "      <td>7.323018</td>\n",
       "      <td>16.711554</td>\n",
       "    </tr>\n",
       "    <tr>\n",
       "      <th>2</th>\n",
       "      <td>56.613757</td>\n",
       "      <td>24.254807</td>\n",
       "      <td>7.217771</td>\n",
       "      <td>7.339084</td>\n",
       "      <td>16.631100</td>\n",
       "    </tr>\n",
       "    <tr>\n",
       "      <th>3</th>\n",
       "      <td>56.642808</td>\n",
       "      <td>24.138091</td>\n",
       "      <td>3.511365</td>\n",
       "      <td>11.468399</td>\n",
       "      <td>19.195779</td>\n",
       "    </tr>\n",
       "    <tr>\n",
       "      <th>4</th>\n",
       "      <td>56.663986</td>\n",
       "      <td>24.103001</td>\n",
       "      <td>7.418397</td>\n",
       "      <td>9.191837</td>\n",
       "      <td>18.543387</td>\n",
       "    </tr>\n",
       "    <tr>\n",
       "      <th>...</th>\n",
       "      <td>...</td>\n",
       "      <td>...</td>\n",
       "      <td>...</td>\n",
       "      <td>...</td>\n",
       "      <td>...</td>\n",
       "    </tr>\n",
       "    <tr>\n",
       "      <th>195</th>\n",
       "      <td>56.085556</td>\n",
       "      <td>24.772663</td>\n",
       "      <td>7.184981</td>\n",
       "      <td>10.851324</td>\n",
       "      <td>20.133452</td>\n",
       "    </tr>\n",
       "    <tr>\n",
       "      <th>196</th>\n",
       "      <td>57.413389</td>\n",
       "      <td>24.227447</td>\n",
       "      <td>0.731824</td>\n",
       "      <td>11.703114</td>\n",
       "      <td>16.025148</td>\n",
       "    </tr>\n",
       "    <tr>\n",
       "      <th>197</th>\n",
       "      <td>57.275547</td>\n",
       "      <td>23.781044</td>\n",
       "      <td>7.209080</td>\n",
       "      <td>10.420579</td>\n",
       "      <td>19.709978</td>\n",
       "    </tr>\n",
       "    <tr>\n",
       "      <th>198</th>\n",
       "      <td>56.352150</td>\n",
       "      <td>23.486739</td>\n",
       "      <td>3.247452</td>\n",
       "      <td>11.549389</td>\n",
       "      <td>19.107103</td>\n",
       "    </tr>\n",
       "    <tr>\n",
       "      <th>199</th>\n",
       "      <td>55.894421</td>\n",
       "      <td>24.593812</td>\n",
       "      <td>0.312350</td>\n",
       "      <td>11.863298</td>\n",
       "      <td>14.336503</td>\n",
       "    </tr>\n",
       "  </tbody>\n",
       "</table>\n",
       "<p>200 rows × 5 columns</p>\n",
       "</div>"
      ],
      "text/plain": [
       "            RA       Dec.       plx    App_Mag    Act_Mag\n",
       "0    56.566774  24.189735  7.393535   8.208464  17.552725\n",
       "1    56.557355  24.196560  7.545835   7.323018  16.711554\n",
       "2    56.613757  24.254807  7.217771   7.339084  16.631100\n",
       "3    56.642808  24.138091  3.511365  11.468399  19.195779\n",
       "4    56.663986  24.103001  7.418397   9.191837  18.543387\n",
       "..         ...        ...       ...        ...        ...\n",
       "195  56.085556  24.772663  7.184981  10.851324  20.133452\n",
       "196  57.413389  24.227447  0.731824  11.703114  16.025148\n",
       "197  57.275547  23.781044  7.209080  10.420579  19.709978\n",
       "198  56.352150  23.486739  3.247452  11.549389  19.107103\n",
       "199  55.894421  24.593812  0.312350  11.863298  14.336503\n",
       "\n",
       "[200 rows x 5 columns]"
      ]
     },
     "execution_count": 37,
     "metadata": {},
     "output_type": "execute_result"
    }
   ],
   "source": [
    "non_numbers=stardata[stardata.plx.str.contains('--')].index\n",
    "plx_mean=stardata.drop(index=non_numbers).astype('float64').plx.mean()\n",
    "stardata.plx=stardata.plx.replace(['--'],[plx_mean])\n",
    "stardata.plx=stardata.plx.astype('float64')\n",
    "stardata['Act_Mag']=stardata.App_Mag + 5 - 5*numpy.log10(1/stardata.plx)\n",
    "stardata"
   ]
  },
  {
   "cell_type": "markdown",
   "metadata": {
    "id": "GafdlK2-sinu"
   },
   "source": [
    "A good way to visualize the actual star cluster as it appears to us in the night sky would be to make a scatter plot of declination and RA on the $y$ and $x$ axes respectively. Try plotting the stars such that the star appears bigger if it is brighter. One way to do this is to make the size of dots in scatter plot proportional to (12 - apparent magnitude) of the star.\n",
    "\n",
    "(Hint: Google how to make a scatter plot with variable size of dots.)\n",
    "\n",
    "If you can't make a plot with variable dot sizes, make a simple plot with all dots of same size."
   ]
  },
  {
   "cell_type": "code",
   "execution_count": 38,
   "metadata": {
    "id": "JUu_c0zU6vFF"
   },
   "outputs": [
    {
     "data": {
      "text/plain": [
       "<matplotlib.collections.PathCollection at 0x24bf8c80550>"
      ]
     },
     "execution_count": 38,
     "metadata": {},
     "output_type": "execute_result"
    },
    {
     "data": {
      "image/png": "[encoded data removed]",
      "text/plain": [
       "<Figure size 432x288 with 1 Axes>"
      ]
     },
     "metadata": {
      "needs_background": "light"
     },
     "output_type": "display_data"
    }
   ],
   "source": [
    "plt.scatter(stardata.RA,stardata['Dec.'])"
   ]
  },
  {
   "cell_type": "markdown",
   "metadata": {
    "id": "L2gMlFIy7Ucq"
   },
   "source": [
    "# **Question 2 : Estimating Age of Universe using Hubble's Law**\n",
    "\n",
    "In this problem, we will use Hubble's Law on a large number of galaxies, and fit the data to a linear model to find the value of the Hubble Constant, which we will use to calculate the current age of the universe.\n",
    "\n",
    "You can learn more about Hubble's Law, a very important principle of cosmology and expansion of Universe over here - https://simple.m.wikipedia.org/wiki/Hubble%27s_law \n",
    "\n",
    "Step 0: Importing libraries\n",
    "\n",
    "Dump all the required libraries, and define any necessary constants in the code box below.\n",
    "\n",
    "You will require the optimize module of scipy library, so be sure to include a line saying `from scipy.optimize import curve_fit`."
   ]
  },
  {
   "cell_type": "code",
   "execution_count": 7,
   "metadata": {
    "id": "DTpOG9Fr70Nc"
   },
   "outputs": [],
   "source": [
    "from scipy.optimize import curve_fit as cf"
   ]
  },
  {
   "cell_type": "markdown",
   "metadata": {
    "id": "b_Fes9_P78i_"
   },
   "source": [
    "Step 2: Loading the data\n",
    "\n",
    "Open the file \"data.txt\" and store it in array(s). First row contains the distance modulus (https://en.m.wikipedia.org/wiki/Distance_modulus) of the galaxy from earth, second row contains the line of sight velocity in km/s.\n",
    "\n",
    "To convert distance modulus to distance in Megaparsecs (the unit we will be using in the rest of the question), use the formula:\n",
    "\n",
    "$d = 10^{\\left(\\frac{d_{dist mod}}{5} - 5\\right)}$\n",
    "\n",
    "where $d$ is in megaparsecs (Mpc)."
   ]
  },
  {
   "cell_type": "code",
   "execution_count": 5,
   "metadata": {
    "id": "itgR16OO8jTb"
   },
   "outputs": [
    {
     "data": {
      "text/html": [
       "<div>\n",
       "<style scoped>\n",
       "    .dataframe tbody tr th:only-of-type {\n",
       "        vertical-align: middle;\n",
       "    }\n",
       "\n",
       "    .dataframe tbody tr th {\n",
       "        vertical-align: top;\n",
       "    }\n",
       "\n",
       "    .dataframe thead th {\n",
       "        text-align: right;\n",
       "    }\n",
       "</style>\n",
       "<table border=\"1\" class=\"dataframe\">\n",
       "  <thead>\n",
       "    <tr style=\"text-align: right;\">\n",
       "      <th></th>\n",
       "      <th>mod0</th>\n",
       "      <th>vgsr</th>\n",
       "    </tr>\n",
       "  </thead>\n",
       "  <tbody>\n",
       "    <tr>\n",
       "      <th>0</th>\n",
       "      <td>213.796209</td>\n",
       "      <td>15080</td>\n",
       "    </tr>\n",
       "    <tr>\n",
       "      <th>1</th>\n",
       "      <td>287.078058</td>\n",
       "      <td>18221</td>\n",
       "    </tr>\n",
       "    <tr>\n",
       "      <th>2</th>\n",
       "      <td>56.234133</td>\n",
       "      <td>3129</td>\n",
       "    </tr>\n",
       "    <tr>\n",
       "      <th>3</th>\n",
       "      <td>34.040819</td>\n",
       "      <td>4486</td>\n",
       "    </tr>\n",
       "    <tr>\n",
       "      <th>4</th>\n",
       "      <td>47.206304</td>\n",
       "      <td>4564</td>\n",
       "    </tr>\n",
       "    <tr>\n",
       "      <th>...</th>\n",
       "      <td>...</td>\n",
       "      <td>...</td>\n",
       "    </tr>\n",
       "    <tr>\n",
       "      <th>4059</th>\n",
       "      <td>65.765784</td>\n",
       "      <td>4843</td>\n",
       "    </tr>\n",
       "    <tr>\n",
       "      <th>4060</th>\n",
       "      <td>334.195040</td>\n",
       "      <td>23832</td>\n",
       "    </tr>\n",
       "    <tr>\n",
       "      <th>4061</th>\n",
       "      <td>162.929603</td>\n",
       "      <td>11410</td>\n",
       "    </tr>\n",
       "    <tr>\n",
       "      <th>4062</th>\n",
       "      <td>155.596563</td>\n",
       "      <td>9105</td>\n",
       "    </tr>\n",
       "    <tr>\n",
       "      <th>4063</th>\n",
       "      <td>98.174794</td>\n",
       "      <td>7952</td>\n",
       "    </tr>\n",
       "  </tbody>\n",
       "</table>\n",
       "<p>4064 rows × 2 columns</p>\n",
       "</div>"
      ],
      "text/plain": [
       "            mod0   vgsr\n",
       "0     213.796209  15080\n",
       "1     287.078058  18221\n",
       "2      56.234133   3129\n",
       "3      34.040819   4486\n",
       "4      47.206304   4564\n",
       "...          ...    ...\n",
       "4059   65.765784   4843\n",
       "4060  334.195040  23832\n",
       "4061  162.929603  11410\n",
       "4062  155.596563   9105\n",
       "4063   98.174794   7952\n",
       "\n",
       "[4064 rows x 2 columns]"
      ]
     },
     "execution_count": 5,
     "metadata": {},
     "output_type": "execute_result"
    }
   ],
   "source": [
    "hl=pandas.read_csv('data.txt')\n",
    "hl.mod0=10**(hl.mod0/5 - 5)\n",
    "hl"
   ]
  },
  {
   "cell_type": "markdown",
   "metadata": {
    "id": "v8n0_bmv8rBu"
   },
   "source": [
    "Step 3: Preliminary Data Visualization\n",
    "\n",
    "Create a function taking the distance to the galaxy, and a slope and an intercept parameter as input, returning recession velocity of that galaxy as output. A code snippet showing how to use curve_fit to find the optimum slope and intercept is shown here - https://github.com/krittikaiitb/tutorials/blob/master/Tutorial_07/SciPy1.ipynb \n",
    "\n",
    "Create a scatter plot of the line of sight velocity of the galaxies (in km/s) vs the distance to the galaxies (in Mpc). Also plot the model you just fit in the same graph."
   ]
  },
  {
   "cell_type": "code",
   "execution_count": 6,
   "metadata": {
    "id": "PYqutdHI8yB6"
   },
   "outputs": [],
   "source": [
    "def lin_func(x,m,c):\n",
    "    return m*x + c"
   ]
  },
  {
   "cell_type": "code",
   "execution_count": 13,
   "metadata": {},
   "outputs": [
    {
     "data": {
      "text/plain": [
       "<matplotlib.legend.Legend at 0x26ff6995550>"
      ]
     },
     "execution_count": 13,
     "metadata": {},
     "output_type": "execute_result"
    },
    {
     "data": {
      "image/png": "[encoded data removed]",
      "text/plain": [
       "<Figure size 432x288 with 1 Axes>"
      ]
     },
     "metadata": {
      "needs_background": "light"
     },
     "output_type": "display_data"
    }
   ],
   "source": [
    "p_opt, p_cov = cf(lin_func,hl.mod0,hl.vgsr)\n",
    "plt.scatter(hl.mod0,hl.vgsr,label='OG_Data',s=1,color='darkorange')\n",
    "plt.scatter(hl.mod0,lin_func(hl.mod0,*p_opt),label='best fit',s=1,color='g')\n",
    "plt.xlabel('x')\n",
    "plt.ylabel('y')\n",
    "plt.title('Linear Fit')\n",
    "plt.legend()"
   ]
  },
  {
   "cell_type": "markdown",
   "metadata": {
    "id": "osng2Pxi84rx"
   },
   "source": [
    "Step 4: Removing Outliers (OPTIONAL)\n",
    "\n",
    "As you can see, there are many points on the outskirts of the graph, which may affect out calulations of the slope and intercept unduly. Devise a way to remove those outliers to your satisfaction, and replot the remaining data points. There are multiple ways to do this, a few of them could be:\n",
    "\n",
    "1. Removing all points whose distances are 3$\\times$(Standard Deviation of Distance from Earth) away from the Mean Distance of all input galaxies from Earth. (or take any factor other than 3)\n",
    "\n",
    "2. Removing all points which are a certain distance away from the best fit line initially calculated (decide yourself what to set this distance as, could be a factor of the mean distance from the line for all points)."
   ]
  },
  {
   "cell_type": "code",
   "execution_count": null,
   "metadata": {
    "id": "0-RxWO9g9Lzd"
   },
   "outputs": [],
   "source": [
    "#Remove outliers and replot the improved data"
   ]
  },
  {
   "cell_type": "markdown",
   "metadata": {
    "id": "y0PXYi3V9QF0"
   },
   "source": [
    "Step 5: Conclusion\n",
    "\n",
    "The slope of the graph (with recessional velocity in the y-axis and distance of the galaxy in the x-axis) gives us the Hubble Constant $H_0$ (in units km/s-Mpc). The reciprocal of the Hubble Constant is a good approximation for the age of the universe. Hence, find the age of the universe using your calculations."
   ]
  },
  {
   "cell_type": "code",
   "execution_count": 12,
   "metadata": {
    "id": "2u9oHjvS9gZf"
   },
   "outputs": [
    {
     "data": {
      "text/plain": [
       "4.899685520709597e+17"
      ]
     },
     "execution_count": 12,
     "metadata": {},
     "output_type": "execute_result"
    }
   ],
   "source": [
    "age_of_universe=1/p_opt[0] * 3.086 * 10**19\n",
    "age_of_universe"
   ]
  },
  {
   "cell_type": "markdown",
   "metadata": {},
   "source": [
    "this is the estimated age of universe in seconds"
   ]
  }
 ],
 "metadata": {
  "colab": {
   "authorship_tag": "ABX9TyNaK6XDBQKfATua5LP6gr1x",
   "collapsed_sections": [],
   "name": "CAB_Problem_Statement.ipynb",
   "provenance": []
  },
  "kernelspec": {
   "display_name": "Python 3 (ipykernel)",
   "language": "python",
   "name": "python3"
  },
  "language_info": {
   "codemirror_mode": {
    "name": "ipython",
    "version": 3
   },
   "file_extension": ".py",
   "mimetype": "text/x-python",
   "name": "python",
   "nbconvert_exporter": "python",
   "pygments_lexer": "ipython3",
   "version": "3.9.12"
  }
 },
 "nbformat": 4,
 "nbformat_minor": 1
}
